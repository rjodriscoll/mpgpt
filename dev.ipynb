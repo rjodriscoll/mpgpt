{
 "cells": [
  {
   "cell_type": "code",
   "execution_count": 1,
   "metadata": {},
   "outputs": [],
   "source": [
    "from src.transcribe import Whisper"
   ]
  },
  {
   "cell_type": "code",
   "execution_count": 2,
   "metadata": {},
   "outputs": [
    {
     "name": "stdout",
     "output_type": "stream",
     "text": [
      "Downloading youtube audio...\n",
      "Transcribing file...\n"
     ]
    }
   ],
   "source": [
    "w = Whisper(url = 'https://www.youtube.com/watch?v=d3d8bRDAP3s')"
   ]
  },
  {
   "cell_type": "code",
   "execution_count": 14,
   "metadata": {},
   "outputs": [
    {
     "name": "stdout",
     "output_type": "stream",
     "text": [
      "Getting gpt summary... \n",
      " \n",
      " \n"
     ]
    },
    {
     "data": {
      "text/plain": [
       "\"Celsius positioned itself as a crypto lender offering customers higher yields and no fees compared to traditional banks.\\n\\nCelsius collapsed after managing billions in assets, filing for bankruptcy in a matter of months, and betraying customers' trust.\\n\\nCelsius lied about interest rates to customers, made riskier investments, and wasn't distributing profits to investors.\\n\\nThe CEO of Celsius, Alex Mashinsky, sold his own tokens and withdrew money just before the company shut down, leading to allegations of fraud.\\n\\nCelsius used customer funds to buy back and artificially boost their own token's price, allowing executives to sell their tokens without causing the price to crash.\\n\\nCelsius Network was insolvent from the start, with a shortfall of over $7 billion owed to customers.\\n\\nThe video features interviews with victims who lost their money and called for Mashinsky to face jail time.\\n\\nThe company has been accused of operating as a Ponzi scheme and relying on new user deposits to pay old user withdrawals.\\n\\nViewers are invited to support the channel on Patreon to help produce more investigative content.\""
      ]
     },
     "execution_count": 14,
     "metadata": {},
     "output_type": "execute_result"
    }
   ],
   "source": [
    "r = Responder(url = '123', output_format ='10 bullet points')\n",
    "r.get_response()"
   ]
  },
  {
   "cell_type": "code",
   "execution_count": 16,
   "metadata": {},
   "outputs": [
    {
     "data": {
      "text/markdown": [
       "Celsius positioned itself as a crypto lender offering customers higher yields and no fees compared to traditional banks.\n",
       "\n",
       "Celsius collapsed after managing billions in assets, filing for bankruptcy in a matter of months, and betraying customers' trust.\n",
       "\n",
       "Celsius lied about interest rates to customers, made riskier investments, and wasn't distributing profits to investors.\n",
       "\n",
       "The CEO of Celsius, Alex Mashinsky, sold his own tokens and withdrew money just before the company shut down, leading to allegations of fraud.\n",
       "\n",
       "Celsius used customer funds to buy back and artificially boost their own token's price, allowing executives to sell their tokens without causing the price to crash.\n",
       "\n",
       "Celsius Network was insolvent from the start, with a shortfall of over $7 billion owed to customers.\n",
       "\n",
       "The video features interviews with victims who lost their money and called for Mashinsky to face jail time.\n",
       "\n",
       "The company has been accused of operating as a Ponzi scheme and relying on new user deposits to pay old user withdrawals.\n",
       "\n",
       "Viewers are invited to support the channel on Patreon to help produce more investigative content."
      ],
      "text/plain": [
       "<IPython.core.display.Markdown object>"
      ]
     },
     "execution_count": 16,
     "metadata": {},
     "output_type": "execute_result"
    }
   ],
   "source": [
    "x = \"Celsius positioned itself as a crypto lender offering customers higher yields and no fees compared to traditional banks.\\n\\nCelsius collapsed after managing billions in assets, filing for bankruptcy in a matter of months, and betraying customers' trust.\\n\\nCelsius lied about interest rates to customers, made riskier investments, and wasn't distributing profits to investors.\\n\\nThe CEO of Celsius, Alex Mashinsky, sold his own tokens and withdrew money just before the company shut down, leading to allegations of fraud.\\n\\nCelsius used customer funds to buy back and artificially boost their own token's price, allowing executives to sell their tokens without causing the price to crash.\\n\\nCelsius Network was insolvent from the start, with a shortfall of over $7 billion owed to customers.\\n\\nThe video features interviews with victims who lost their money and called for Mashinsky to face jail time.\\n\\nThe company has been accused of operating as a Ponzi scheme and relying on new user deposits to pay old user withdrawals.\\n\\nViewers are invited to support the channel on Patreon to help produce more investigative content.\"\n",
    "\n",
    "from IPython.display import Markdown\n",
    "Markdown(x)"
   ]
  },
  {
   "cell_type": "code",
   "execution_count": 17,
   "metadata": {},
   "outputs": [
    {
     "ename": "TypeError",
     "evalue": "Markdown expects text, not [{'role': 'system', 'content': 'This is a collection of summaries you have provided of a youtube video. Each summary corresponds to a chunk of the transriptions.\\n                         Please provide a summary of this collection of summaries and ensure that the output is provided as 10 bullet points. \\n                         The transcript is as follows: 1: In this section, the video discusses the appeal of Celsius to its customers, which was not just a place to borrow or lend money but a battle against the traditional banking system. CEO Alex Mashinsky pitched a compelling argument that banks were lending out customers\\' money and keeping most of the profit for themselves, while Celsius would lend out money and return most of the profits to customers. The company offered high yields on investments, which some customers found appealing. Celsius also assured customers that their investments were safe and collateralized, meaning they had assets to back up their loans in case of a disaster. \\n \\n 2: The video discusses the collapse of crypto lender Celsius, which went from managing billions in assets to filing for bankruptcy in just a matter of months. The primary reason for the collapse was a Ponzi-like scheme, according to a report released by a court-appointed examiner. The report details how Celsius lied to customers about the interest they would receive on deposited crypto, claiming they paid out 80% of profits when they had little to no profits to even distribute. Celsius also consistently set its reward rates based on what they perceived was necessary to beat the competition, rather than their actual yield. When they realized they could not lower reward rates due to fear of losing customers, they attempted riskier investment strategies, including unsecured loans, which were publicly denied by CEO Alex Mashinsky. \\n \\n 3: In this chunk, the narrator discusses how Mashinsky boasted about Celsius\\'s safety, even as the team engaged in riskier behavior, resulting in $800 million in losses. While Mashinsky claimed that Celsius was one of the least risky businesses in terms of regulations, the company owed a billion dollars that they did not have by the end of 2021. However, the narrator muses on how defending Celsius as a lawyer could argue that the lying and losing money was just standard \"fake it till you make it\" behavior, although the evidence so far has been lies and incompetence. To prove fraud, the narrator realizes that they need to show a definitive step across the line, along with humanizing the story through the victims\\' perspectives. The narrator then discusses the flywheel, central to Celsius\\'s plan to become profitable, through incentivizing people to hold SELL tokens to sustain the insane reward rates. \\n \\n 4: The video discusses the scandal surrounding cryptocurrency lending platform, Celsius Network. The company promised high interest rates for users who deposited their assets into their platform, but ultimately became insolvent and unable to pay out to its customers. The video delves into the company\\'s questionable practices, particularly in regards to their SELL token, which they used to reward users for their deposits. The company would buy back their own SELL tokens to pay out rewards, using customer funds to prop up the token\\'s price and benefit Celsius executives. This practice, combined with high rates of rewards, ultimately led to the company\\'s downfall and left many users with losses. \\n \\n 5: The video discusses the downfall of cryptocurrency lending platform Celsius, which has been accused of being a Ponzi scheme. The CEO, Alex Mashinsky, is accused of misleading investors and using new investments to pay off old withdrawals, which is textbook Ponzi scheme behavior. Victims of the scam speak out about how they lost their life savings and believe that Mashinsky should face jail time. Mashinsky declined to comment on the allegations, but Celsius is attempting to distribute whatever is left back to the holders and lawyers. The video encourages viewers to support the channel on Patreon if they enjoy in-depth investigations like this one. \\n \\n\\n                '}]",
     "output_type": "error",
     "traceback": [
      "\u001b[1;31m---------------------------------------------------------------------------\u001b[0m",
      "\u001b[1;31mTypeError\u001b[0m                                 Traceback (most recent call last)",
      "Cell \u001b[1;32mIn[17], line 8\u001b[0m\n\u001b[0;32m      1\u001b[0m master_summary \u001b[39m=\u001b[39m \u001b[39m\"\u001b[39m\u001b[39m \u001b[39m\u001b[39m\"\u001b[39m\u001b[39m.\u001b[39mjoin(\n\u001b[0;32m      2\u001b[0m     [\n\u001b[0;32m      3\u001b[0m         \u001b[39mf\u001b[39m\u001b[39m\"\u001b[39m\u001b[39m{\u001b[39;00mindex\u001b[39m+\u001b[39m\u001b[39m1\u001b[39m\u001b[39m}\u001b[39;00m\u001b[39m: \u001b[39m\u001b[39m{\u001b[39;00mr\u001b[39m.\u001b[39m_get_summary_of_chunk(chunk)\u001b[39m}\u001b[39;00m\u001b[39m \u001b[39m\u001b[39m\\n\u001b[39;00m\u001b[39m \u001b[39m\u001b[39m\\n\u001b[39;00m\u001b[39m\"\u001b[39m\n\u001b[0;32m      4\u001b[0m         \u001b[39mfor\u001b[39;00m index, chunk \u001b[39min\u001b[39;00m \u001b[39menumerate\u001b[39m(r\u001b[39m.\u001b[39mwhisper\u001b[39m.\u001b[39mtranscription)\n\u001b[0;32m      5\u001b[0m     ]\n\u001b[0;32m      6\u001b[0m )\n\u001b[0;32m      7\u001b[0m master_message \u001b[39m=\u001b[39m r\u001b[39m.\u001b[39m_get_master_message(master_summary)\n\u001b[1;32m----> 8\u001b[0m Markdown(master_message)\n",
      "File \u001b[1;32mc:\\Users\\ruair\\Documents\\code\\mpgpt\\venv\\lib\\site-packages\\IPython\\core\\display.py:328\u001b[0m, in \u001b[0;36mDisplayObject.__init__\u001b[1;34m(self, data, url, filename, metadata)\u001b[0m\n\u001b[0;32m    325\u001b[0m     \u001b[39mself\u001b[39m\u001b[39m.\u001b[39mmetadata \u001b[39m=\u001b[39m {}\n\u001b[0;32m    327\u001b[0m \u001b[39mself\u001b[39m\u001b[39m.\u001b[39mreload()\n\u001b[1;32m--> 328\u001b[0m \u001b[39mself\u001b[39;49m\u001b[39m.\u001b[39;49m_check_data()\n",
      "File \u001b[1;32mc:\\Users\\ruair\\Documents\\code\\mpgpt\\venv\\lib\\site-packages\\IPython\\core\\display.py:407\u001b[0m, in \u001b[0;36mTextDisplayObject._check_data\u001b[1;34m(self)\u001b[0m\n\u001b[0;32m    405\u001b[0m \u001b[39mdef\u001b[39;00m \u001b[39m_check_data\u001b[39m(\u001b[39mself\u001b[39m):\n\u001b[0;32m    406\u001b[0m     \u001b[39mif\u001b[39;00m \u001b[39mself\u001b[39m\u001b[39m.\u001b[39mdata \u001b[39mis\u001b[39;00m \u001b[39mnot\u001b[39;00m \u001b[39mNone\u001b[39;00m \u001b[39mand\u001b[39;00m \u001b[39mnot\u001b[39;00m \u001b[39misinstance\u001b[39m(\u001b[39mself\u001b[39m\u001b[39m.\u001b[39mdata, \u001b[39mstr\u001b[39m):\n\u001b[1;32m--> 407\u001b[0m         \u001b[39mraise\u001b[39;00m \u001b[39mTypeError\u001b[39;00m(\u001b[39m\"\u001b[39m\u001b[39m%s\u001b[39;00m\u001b[39m expects text, not \u001b[39m\u001b[39m%r\u001b[39;00m\u001b[39m\"\u001b[39m \u001b[39m%\u001b[39m (\u001b[39mself\u001b[39m\u001b[39m.\u001b[39m\u001b[39m__class__\u001b[39m\u001b[39m.\u001b[39m\u001b[39m__name__\u001b[39m, \u001b[39mself\u001b[39m\u001b[39m.\u001b[39mdata))\n",
      "\u001b[1;31mTypeError\u001b[0m: Markdown expects text, not [{'role': 'system', 'content': 'This is a collection of summaries you have provided of a youtube video. Each summary corresponds to a chunk of the transriptions.\\n                         Please provide a summary of this collection of summaries and ensure that the output is provided as 10 bullet points. \\n                         The transcript is as follows: 1: In this section, the video discusses the appeal of Celsius to its customers, which was not just a place to borrow or lend money but a battle against the traditional banking system. CEO Alex Mashinsky pitched a compelling argument that banks were lending out customers\\' money and keeping most of the profit for themselves, while Celsius would lend out money and return most of the profits to customers. The company offered high yields on investments, which some customers found appealing. Celsius also assured customers that their investments were safe and collateralized, meaning they had assets to back up their loans in case of a disaster. \\n \\n 2: The video discusses the collapse of crypto lender Celsius, which went from managing billions in assets to filing for bankruptcy in just a matter of months. The primary reason for the collapse was a Ponzi-like scheme, according to a report released by a court-appointed examiner. The report details how Celsius lied to customers about the interest they would receive on deposited crypto, claiming they paid out 80% of profits when they had little to no profits to even distribute. Celsius also consistently set its reward rates based on what they perceived was necessary to beat the competition, rather than their actual yield. When they realized they could not lower reward rates due to fear of losing customers, they attempted riskier investment strategies, including unsecured loans, which were publicly denied by CEO Alex Mashinsky. \\n \\n 3: In this chunk, the narrator discusses how Mashinsky boasted about Celsius\\'s safety, even as the team engaged in riskier behavior, resulting in $800 million in losses. While Mashinsky claimed that Celsius was one of the least risky businesses in terms of regulations, the company owed a billion dollars that they did not have by the end of 2021. However, the narrator muses on how defending Celsius as a lawyer could argue that the lying and losing money was just standard \"fake it till you make it\" behavior, although the evidence so far has been lies and incompetence. To prove fraud, the narrator realizes that they need to show a definitive step across the line, along with humanizing the story through the victims\\' perspectives. The narrator then discusses the flywheel, central to Celsius\\'s plan to become profitable, through incentivizing people to hold SELL tokens to sustain the insane reward rates. \\n \\n 4: The video discusses the scandal surrounding cryptocurrency lending platform, Celsius Network. The company promised high interest rates for users who deposited their assets into their platform, but ultimately became insolvent and unable to pay out to its customers. The video delves into the company\\'s questionable practices, particularly in regards to their SELL token, which they used to reward users for their deposits. The company would buy back their own SELL tokens to pay out rewards, using customer funds to prop up the token\\'s price and benefit Celsius executives. This practice, combined with high rates of rewards, ultimately led to the company\\'s downfall and left many users with losses. \\n \\n 5: The video discusses the downfall of cryptocurrency lending platform Celsius, which has been accused of being a Ponzi scheme. The CEO, Alex Mashinsky, is accused of misleading investors and using new investments to pay off old withdrawals, which is textbook Ponzi scheme behavior. Victims of the scam speak out about how they lost their life savings and believe that Mashinsky should face jail time. Mashinsky declined to comment on the allegations, but Celsius is attempting to distribute whatever is left back to the holders and lawyers. The video encourages viewers to support the channel on Patreon if they enjoy in-depth investigations like this one. \\n \\n\\n                '}]"
     ]
    }
   ],
   "source": [
    "master_summary = \" \".join(\n",
    "    [\n",
    "        f\"{index+1}: {r._get_summary_of_chunk(chunk)} \\n \\n\"\n",
    "        for index, chunk in enumerate(r.whisper.transcription)\n",
    "    ]\n",
    ")\n",
    "master_message = r._get_master_message(master_summary)\n"
   ]
  },
  {
   "cell_type": "code",
   "execution_count": 18,
   "metadata": {},
   "outputs": [
    {
     "data": {
      "text/plain": [
       "[{'role': 'system',\n",
       "  'content': 'This is a collection of summaries you have provided of a youtube video. Each summary corresponds to a chunk of the transriptions.\\n                         Please provide a summary of this collection of summaries and ensure that the output is provided as 10 bullet points. \\n                         The transcript is as follows: 1: In this section, the video discusses the appeal of Celsius to its customers, which was not just a place to borrow or lend money but a battle against the traditional banking system. CEO Alex Mashinsky pitched a compelling argument that banks were lending out customers\\' money and keeping most of the profit for themselves, while Celsius would lend out money and return most of the profits to customers. The company offered high yields on investments, which some customers found appealing. Celsius also assured customers that their investments were safe and collateralized, meaning they had assets to back up their loans in case of a disaster. \\n \\n 2: The video discusses the collapse of crypto lender Celsius, which went from managing billions in assets to filing for bankruptcy in just a matter of months. The primary reason for the collapse was a Ponzi-like scheme, according to a report released by a court-appointed examiner. The report details how Celsius lied to customers about the interest they would receive on deposited crypto, claiming they paid out 80% of profits when they had little to no profits to even distribute. Celsius also consistently set its reward rates based on what they perceived was necessary to beat the competition, rather than their actual yield. When they realized they could not lower reward rates due to fear of losing customers, they attempted riskier investment strategies, including unsecured loans, which were publicly denied by CEO Alex Mashinsky. \\n \\n 3: In this chunk, the narrator discusses how Mashinsky boasted about Celsius\\'s safety, even as the team engaged in riskier behavior, resulting in $800 million in losses. While Mashinsky claimed that Celsius was one of the least risky businesses in terms of regulations, the company owed a billion dollars that they did not have by the end of 2021. However, the narrator muses on how defending Celsius as a lawyer could argue that the lying and losing money was just standard \"fake it till you make it\" behavior, although the evidence so far has been lies and incompetence. To prove fraud, the narrator realizes that they need to show a definitive step across the line, along with humanizing the story through the victims\\' perspectives. The narrator then discusses the flywheel, central to Celsius\\'s plan to become profitable, through incentivizing people to hold SELL tokens to sustain the insane reward rates. \\n \\n 4: The video discusses the scandal surrounding cryptocurrency lending platform, Celsius Network. The company promised high interest rates for users who deposited their assets into their platform, but ultimately became insolvent and unable to pay out to its customers. The video delves into the company\\'s questionable practices, particularly in regards to their SELL token, which they used to reward users for their deposits. The company would buy back their own SELL tokens to pay out rewards, using customer funds to prop up the token\\'s price and benefit Celsius executives. This practice, combined with high rates of rewards, ultimately led to the company\\'s downfall and left many users with losses. \\n \\n 5: The video discusses the downfall of cryptocurrency lending platform Celsius, which has been accused of being a Ponzi scheme. The CEO, Alex Mashinsky, is accused of misleading investors and using new investments to pay off old withdrawals, which is textbook Ponzi scheme behavior. Victims of the scam speak out about how they lost their life savings and believe that Mashinsky should face jail time. Mashinsky declined to comment on the allegations, but Celsius is attempting to distribute whatever is left back to the holders and lawyers. The video encourages viewers to support the channel on Patreon if they enjoy in-depth investigations like this one. \\n \\n\\n                '}]"
      ]
     },
     "execution_count": 18,
     "metadata": {},
     "output_type": "execute_result"
    }
   ],
   "source": [
    "master_message"
   ]
  },
  {
   "cell_type": "code",
   "execution_count": null,
   "metadata": {},
   "outputs": [],
   "source": []
  }
 ],
 "metadata": {
  "kernelspec": {
   "display_name": "venv",
   "language": "python",
   "name": "python3"
  },
  "language_info": {
   "codemirror_mode": {
    "name": "ipython",
    "version": 3
   },
   "file_extension": ".py",
   "mimetype": "text/x-python",
   "name": "python",
   "nbconvert_exporter": "python",
   "pygments_lexer": "ipython3",
   "version": "3.9.7"
  },
  "orig_nbformat": 4
 },
 "nbformat": 4,
 "nbformat_minor": 2
}
