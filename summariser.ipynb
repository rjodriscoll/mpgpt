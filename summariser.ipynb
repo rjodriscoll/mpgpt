{
 "cells": [
  {
   "cell_type": "code",
   "execution_count": 1,
   "metadata": {},
   "outputs": [],
   "source": [
    "from src.responder import Responder\n",
    "from IPython.display import Markdown"
   ]
  },
  {
   "cell_type": "code",
   "execution_count": 2,
   "metadata": {},
   "outputs": [
    {
     "name": "stdout",
     "output_type": "stream",
     "text": [
      "Downloading youtube audio...\n",
      "Transcribing file...\n",
      "Getting gpt summary... \n",
      " \n",
      " \n"
     ]
    },
    {
     "data": {
      "text/markdown": [
       "\n",
       "\n",
       "- The unique rules of the TTT in Paris-Nice and the strategies teams might employ are discussed, with Jumbo-Visma winning by just 1.5 seconds ahead of EF Education Easypost.\n",
       "- The commentators discuss the team time trial in the UAE Tour, noting that some teams kept their team together for the entire time trial while others dropped riders off earlier.\n",
       "- The results of the team time trial in Paris-Nice are discussed, where EF Education-Nippo takes the yellow jersey from Team Jumbo-Visma by one second, with Jonas Vingegaard four seconds ahead of Simon Yates and 11 seconds ahead of Tadej Pogacar.\n",
       "- The eighth stage of the Tour de France is discussed, with the hosts discussing how it seems to be tailor-made for Tadej Pogacar.\n",
       "- The upcoming mountain stage is discussed, with Giannis mentioned as someone who may try to drop Pogacar, and Ineos' Danny Martinez potentially going on a break, while UAE's success is recognized and Simon Yates is mentioned as a dark horse for the GC.\n",
       "\n",
       "The video covers discussions on recent TTT races, previews upcoming stages, and speculates on team strategy and rider performance for the Tour de France."
      ],
      "text/plain": [
       "<IPython.core.display.Markdown object>"
      ]
     },
     "execution_count": 2,
     "metadata": {},
     "output_type": "execute_result"
    }
   ],
   "source": [
    "r = Responder(url = 'https://www.youtube.com/watch?v=C6dfcWKTGgA',output_format= '5 bullet points, followed by a one sentence summary of the video')\n",
    "Markdown(r.get_response())"
   ]
  }
 ],
 "metadata": {
  "kernelspec": {
   "display_name": "venv",
   "language": "python",
   "name": "python3"
  },
  "language_info": {
   "codemirror_mode": {
    "name": "ipython",
    "version": 3
   },
   "file_extension": ".py",
   "mimetype": "text/x-python",
   "name": "python",
   "nbconvert_exporter": "python",
   "pygments_lexer": "ipython3",
   "version": "3.9.7"
  },
  "orig_nbformat": 4
 },
 "nbformat": 4,
 "nbformat_minor": 2
}
