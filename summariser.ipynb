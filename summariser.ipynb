{
 "cells": [
  {
   "cell_type": "code",
   "execution_count": 1,
   "metadata": {},
   "outputs": [],
   "source": [
    "import openai\n",
    "import config\n",
    "from transcribe import Whisper\n",
    "from IPython.display import Markdown\n",
    "\n",
    "openai.api_key = config.API_KEY\n"
   ]
  },
  {
   "cell_type": "code",
   "execution_count": 2,
   "metadata": {},
   "outputs": [],
   "source": [
    "class Responder:\n",
    "    def __init__(self, url: str, output_format: str) -> None:\n",
    "        self.whisper = Whisper(url)\n",
    "        self.message = self._get_base_message(output_format)\n",
    "\n",
    "\n",
    "    def _get_base_message(self):\n",
    "        return [\n",
    "            {\n",
    "                \"role\": \"system\",\n",
    "                \"content\": f\"\"\"This is the transcript to a youtube video, provide a summary of the content of the video. Ensure that the output is provided as {self.output_format}. \n",
    "                        the transcript is as follows: {self.whisper.transcription}\n",
    "                \"\"\",\n",
    "            }\n",
    "        ]\n",
    "\n",
    "    def _get_response(self) -> str:\n",
    "        print('Getting gpt summary...')\n",
    "        response = openai.ChatCompletion.create(model=\"gpt-3.5-turbo\", messages=self.message)\n",
    "        return response[\"choices\"][0][\"message\"]['content']\n",
    "\n",
    "    def show_response(self):\n",
    "        \"\"\"displays a markdown representation of your gpt 3.5 response\"\"\"\n",
    "        Markdown(self.get_response)\n"
   ]
  },
  {
   "cell_type": "code",
   "execution_count": null,
   "metadata": {},
   "outputs": [],
   "source": [
    "Re"
   ]
  }
 ],
 "metadata": {
  "kernelspec": {
   "display_name": "venv",
   "language": "python",
   "name": "python3"
  },
  "language_info": {
   "codemirror_mode": {
    "name": "ipython",
    "version": 3
   },
   "file_extension": ".py",
   "mimetype": "text/x-python",
   "name": "python",
   "nbconvert_exporter": "python",
   "pygments_lexer": "ipython3",
   "version": "3.9.7"
  },
  "orig_nbformat": 4
 },
 "nbformat": 4,
 "nbformat_minor": 2
}
