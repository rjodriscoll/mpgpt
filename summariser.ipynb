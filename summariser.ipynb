{
 "cells": [
  {
   "cell_type": "code",
   "execution_count": 1,
   "metadata": {},
   "outputs": [],
   "source": [
    "from src.responder import Responder\n",
    "from IPython.display import Markdown\n"
   ]
  },
  {
   "cell_type": "code",
   "execution_count": 2,
   "metadata": {},
   "outputs": [
    {
     "name": "stdout",
     "output_type": "stream",
     "text": [
      "Downloading youtube audio...\n",
      "Transcribing file...\n",
      "Getting gpt summary... \n",
      " \n",
      " \n"
     ]
    },
    {
     "data": {
      "text/markdown": [
       "- A recession could be a once-in-a-generation opportunity to build wealth.\n",
       "- Recessions are accompanied by rise in unemployment, drop in wages and decline in values across different sectors.\n",
       "- There is expected to be a decline in earnings and layoffs.\n",
       "- Stocks are down by 20-30% and could fall by another 20%.\n",
       "- Real estate prices might decline by 7% nationally and 10-15% in worst-case scenarios. \n",
       "- Cash could be a safer place to store wealth than stocks during a recession.\n",
       "- Falling markets could work to an investor's advantage if they see it as an opportunity to buy the same companies at a discount.\n",
       "- After every bear market comes a bull market.\n",
       "- It is important to act before recessions are officially confirmed.\n",
       "- Action items include scaling back on expenses, holding onto cash, protecting your career, investing long-term, and diversifying your investments."
      ],
      "text/plain": [
       "<IPython.core.display.Markdown object>"
      ]
     },
     "execution_count": 2,
     "metadata": {},
     "output_type": "execute_result"
    }
   ],
   "source": [
    "r = Responder(url = 'https://www.youtube.com/watch?v=P8upKEsCyU4',output_format= '10 bullet points')\n",
    "Markdown(r.get_response())"
   ]
  }
 ],
 "metadata": {
  "kernelspec": {
   "display_name": "venv",
   "language": "python",
   "name": "python3"
  },
  "language_info": {
   "codemirror_mode": {
    "name": "ipython",
    "version": 3
   },
   "file_extension": ".py",
   "mimetype": "text/x-python",
   "name": "python",
   "nbconvert_exporter": "python",
   "pygments_lexer": "ipython3",
   "version": "3.9.7"
  },
  "orig_nbformat": 4
 },
 "nbformat": 4,
 "nbformat_minor": 2
}
